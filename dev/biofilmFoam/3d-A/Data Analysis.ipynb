{
 "cells": [
  {
   "cell_type": "code",
   "execution_count": 15,
   "id": "b8a665ee",
   "metadata": {},
   "outputs": [],
   "source": [
    "import pandas as pd\n",
    "import matplotlib.pyplot as plt"
   ]
  },
  {
   "cell_type": "markdown",
   "id": "9290b73e",
   "metadata": {},
   "source": [
    "## Sessile Biomass"
   ]
  },
  {
   "cell_type": "code",
   "execution_count": 16,
   "id": "756d205a",
   "metadata": {},
   "outputs": [
    {
     "name": "stdout",
     "output_type": "stream",
     "text": [
      "     time         M\n",
      "0       0  0.000750\n",
      "1   25000  0.001289\n",
      "2   50000  0.001959\n",
      "3   75000  0.002695\n",
      "4  100000  0.003451\n"
     ]
    }
   ],
   "source": [
    "\n",
    "m_df = pd.read_csv('Mtot_fraction.dat', \n",
    "                 sep=r'\\s+',   \n",
    "                 header=None, \n",
    "                 names=['time', 'M']) \n",
    "\n",
    "print(m_df.head())\n"
   ]
  },
  {
   "cell_type": "markdown",
   "id": "dfacdb5f",
   "metadata": {},
   "source": [
    "## EPS"
   ]
  },
  {
   "cell_type": "code",
   "execution_count": 17,
   "id": "50111d54",
   "metadata": {},
   "outputs": [
    {
     "name": "stdout",
     "output_type": "stream",
     "text": [
      "     time       EPS\n",
      "0       0  0.000000\n",
      "1   25000  0.000107\n",
      "2   50000  0.000243\n",
      "3   75000  0.000396\n",
      "4  100000  0.000561\n"
     ]
    }
   ],
   "source": [
    "\n",
    "eps_df = pd.read_csv('EPS_fraction.dat', \n",
    "                 sep=r'\\s+',   \n",
    "                 header=None, \n",
    "                 names=['time', 'EPS']) \n",
    "\n",
    "print(eps_df.head())\n"
   ]
  },
  {
   "cell_type": "markdown",
   "id": "bb9edffc",
   "metadata": {},
   "source": [
    "## Merge"
   ]
  },
  {
   "cell_type": "code",
   "execution_count": 18,
   "id": "39a618d4",
   "metadata": {},
   "outputs": [
    {
     "data": {
      "text/html": [
       "<div>\n",
       "<style scoped>\n",
       "    .dataframe tbody tr th:only-of-type {\n",
       "        vertical-align: middle;\n",
       "    }\n",
       "\n",
       "    .dataframe tbody tr th {\n",
       "        vertical-align: top;\n",
       "    }\n",
       "\n",
       "    .dataframe thead th {\n",
       "        text-align: right;\n",
       "    }\n",
       "</style>\n",
       "<table border=\"1\" class=\"dataframe\">\n",
       "  <thead>\n",
       "    <tr style=\"text-align: right;\">\n",
       "      <th></th>\n",
       "      <th>time</th>\n",
       "      <th>M</th>\n",
       "      <th>EPS</th>\n",
       "    </tr>\n",
       "  </thead>\n",
       "  <tbody>\n",
       "    <tr>\n",
       "      <th>0</th>\n",
       "      <td>0</td>\n",
       "      <td>0.000750</td>\n",
       "      <td>0.000000</td>\n",
       "    </tr>\n",
       "    <tr>\n",
       "      <th>1</th>\n",
       "      <td>25000</td>\n",
       "      <td>0.001289</td>\n",
       "      <td>0.000107</td>\n",
       "    </tr>\n",
       "    <tr>\n",
       "      <th>2</th>\n",
       "      <td>50000</td>\n",
       "      <td>0.001959</td>\n",
       "      <td>0.000243</td>\n",
       "    </tr>\n",
       "    <tr>\n",
       "      <th>3</th>\n",
       "      <td>75000</td>\n",
       "      <td>0.002695</td>\n",
       "      <td>0.000396</td>\n",
       "    </tr>\n",
       "    <tr>\n",
       "      <th>4</th>\n",
       "      <td>100000</td>\n",
       "      <td>0.003451</td>\n",
       "      <td>0.000561</td>\n",
       "    </tr>\n",
       "    <tr>\n",
       "      <th>5</th>\n",
       "      <td>125000</td>\n",
       "      <td>0.004189</td>\n",
       "      <td>0.000730</td>\n",
       "    </tr>\n",
       "    <tr>\n",
       "      <th>6</th>\n",
       "      <td>150000</td>\n",
       "      <td>0.004894</td>\n",
       "      <td>0.000900</td>\n",
       "    </tr>\n",
       "    <tr>\n",
       "      <th>7</th>\n",
       "      <td>175000</td>\n",
       "      <td>0.005555</td>\n",
       "      <td>0.001069</td>\n",
       "    </tr>\n",
       "    <tr>\n",
       "      <th>8</th>\n",
       "      <td>200000</td>\n",
       "      <td>0.006169</td>\n",
       "      <td>0.001235</td>\n",
       "    </tr>\n",
       "    <tr>\n",
       "      <th>9</th>\n",
       "      <td>225000</td>\n",
       "      <td>0.006735</td>\n",
       "      <td>0.001396</td>\n",
       "    </tr>\n",
       "    <tr>\n",
       "      <th>10</th>\n",
       "      <td>250000</td>\n",
       "      <td>0.007253</td>\n",
       "      <td>0.001548</td>\n",
       "    </tr>\n",
       "    <tr>\n",
       "      <th>11</th>\n",
       "      <td>275000</td>\n",
       "      <td>0.007725</td>\n",
       "      <td>0.001690</td>\n",
       "    </tr>\n",
       "    <tr>\n",
       "      <th>12</th>\n",
       "      <td>300000</td>\n",
       "      <td>0.008155</td>\n",
       "      <td>0.001821</td>\n",
       "    </tr>\n",
       "    <tr>\n",
       "      <th>13</th>\n",
       "      <td>325000</td>\n",
       "      <td>0.008545</td>\n",
       "      <td>0.001940</td>\n",
       "    </tr>\n",
       "    <tr>\n",
       "      <th>14</th>\n",
       "      <td>350000</td>\n",
       "      <td>0.008898</td>\n",
       "      <td>0.002047</td>\n",
       "    </tr>\n",
       "    <tr>\n",
       "      <th>15</th>\n",
       "      <td>375000</td>\n",
       "      <td>0.009218</td>\n",
       "      <td>0.002140</td>\n",
       "    </tr>\n",
       "    <tr>\n",
       "      <th>16</th>\n",
       "      <td>400000</td>\n",
       "      <td>0.009508</td>\n",
       "      <td>0.002219</td>\n",
       "    </tr>\n",
       "    <tr>\n",
       "      <th>17</th>\n",
       "      <td>425000</td>\n",
       "      <td>0.009772</td>\n",
       "      <td>0.002285</td>\n",
       "    </tr>\n",
       "    <tr>\n",
       "      <th>18</th>\n",
       "      <td>450000</td>\n",
       "      <td>0.010010</td>\n",
       "      <td>0.002338</td>\n",
       "    </tr>\n",
       "    <tr>\n",
       "      <th>19</th>\n",
       "      <td>475000</td>\n",
       "      <td>0.010216</td>\n",
       "      <td>0.002377</td>\n",
       "    </tr>\n",
       "    <tr>\n",
       "      <th>20</th>\n",
       "      <td>500000</td>\n",
       "      <td>0.010391</td>\n",
       "      <td>0.002404</td>\n",
       "    </tr>\n",
       "    <tr>\n",
       "      <th>21</th>\n",
       "      <td>525000</td>\n",
       "      <td>0.010502</td>\n",
       "      <td>0.002418</td>\n",
       "    </tr>\n",
       "    <tr>\n",
       "      <th>22</th>\n",
       "      <td>550000</td>\n",
       "      <td>0.010534</td>\n",
       "      <td>0.002421</td>\n",
       "    </tr>\n",
       "    <tr>\n",
       "      <th>23</th>\n",
       "      <td>575000</td>\n",
       "      <td>0.010475</td>\n",
       "      <td>0.002413</td>\n",
       "    </tr>\n",
       "    <tr>\n",
       "      <th>24</th>\n",
       "      <td>600000</td>\n",
       "      <td>0.010304</td>\n",
       "      <td>0.002395</td>\n",
       "    </tr>\n",
       "    <tr>\n",
       "      <th>25</th>\n",
       "      <td>625000</td>\n",
       "      <td>0.010021</td>\n",
       "      <td>0.002367</td>\n",
       "    </tr>\n",
       "    <tr>\n",
       "      <th>26</th>\n",
       "      <td>650000</td>\n",
       "      <td>0.009580</td>\n",
       "      <td>0.002330</td>\n",
       "    </tr>\n",
       "    <tr>\n",
       "      <th>27</th>\n",
       "      <td>675000</td>\n",
       "      <td>0.009039</td>\n",
       "      <td>0.002286</td>\n",
       "    </tr>\n",
       "    <tr>\n",
       "      <th>28</th>\n",
       "      <td>700000</td>\n",
       "      <td>0.008418</td>\n",
       "      <td>0.002235</td>\n",
       "    </tr>\n",
       "    <tr>\n",
       "      <th>29</th>\n",
       "      <td>725000</td>\n",
       "      <td>0.007754</td>\n",
       "      <td>0.002179</td>\n",
       "    </tr>\n",
       "    <tr>\n",
       "      <th>30</th>\n",
       "      <td>750000</td>\n",
       "      <td>0.007164</td>\n",
       "      <td>0.002118</td>\n",
       "    </tr>\n",
       "    <tr>\n",
       "      <th>31</th>\n",
       "      <td>775000</td>\n",
       "      <td>0.006753</td>\n",
       "      <td>0.002056</td>\n",
       "    </tr>\n",
       "    <tr>\n",
       "      <th>32</th>\n",
       "      <td>800000</td>\n",
       "      <td>0.006541</td>\n",
       "      <td>0.001993</td>\n",
       "    </tr>\n",
       "    <tr>\n",
       "      <th>33</th>\n",
       "      <td>825000</td>\n",
       "      <td>0.006524</td>\n",
       "      <td>0.001933</td>\n",
       "    </tr>\n",
       "    <tr>\n",
       "      <th>34</th>\n",
       "      <td>850000</td>\n",
       "      <td>0.006636</td>\n",
       "      <td>0.001877</td>\n",
       "    </tr>\n",
       "  </tbody>\n",
       "</table>\n",
       "</div>"
      ],
      "text/plain": [
       "      time         M       EPS\n",
       "0        0  0.000750  0.000000\n",
       "1    25000  0.001289  0.000107\n",
       "2    50000  0.001959  0.000243\n",
       "3    75000  0.002695  0.000396\n",
       "4   100000  0.003451  0.000561\n",
       "5   125000  0.004189  0.000730\n",
       "6   150000  0.004894  0.000900\n",
       "7   175000  0.005555  0.001069\n",
       "8   200000  0.006169  0.001235\n",
       "9   225000  0.006735  0.001396\n",
       "10  250000  0.007253  0.001548\n",
       "11  275000  0.007725  0.001690\n",
       "12  300000  0.008155  0.001821\n",
       "13  325000  0.008545  0.001940\n",
       "14  350000  0.008898  0.002047\n",
       "15  375000  0.009218  0.002140\n",
       "16  400000  0.009508  0.002219\n",
       "17  425000  0.009772  0.002285\n",
       "18  450000  0.010010  0.002338\n",
       "19  475000  0.010216  0.002377\n",
       "20  500000  0.010391  0.002404\n",
       "21  525000  0.010502  0.002418\n",
       "22  550000  0.010534  0.002421\n",
       "23  575000  0.010475  0.002413\n",
       "24  600000  0.010304  0.002395\n",
       "25  625000  0.010021  0.002367\n",
       "26  650000  0.009580  0.002330\n",
       "27  675000  0.009039  0.002286\n",
       "28  700000  0.008418  0.002235\n",
       "29  725000  0.007754  0.002179\n",
       "30  750000  0.007164  0.002118\n",
       "31  775000  0.006753  0.002056\n",
       "32  800000  0.006541  0.001993\n",
       "33  825000  0.006524  0.001933\n",
       "34  850000  0.006636  0.001877"
      ]
     },
     "execution_count": 18,
     "metadata": {},
     "output_type": "execute_result"
    }
   ],
   "source": [
    "df = m_df.merge(eps_df, on='time')\n",
    "df"
   ]
  },
  {
   "cell_type": "code",
   "execution_count": 19,
   "id": "b7b72a3e",
   "metadata": {},
   "outputs": [
    {
     "data": {
      "image/png": "[encoded data removed]",
      "text/plain": [
       "<Figure size 800x500 with 2 Axes>"
      ]
     },
     "metadata": {},
     "output_type": "display_data"
    }
   ],
   "source": [
    "df['EPS_over_M'] = df['EPS'] / (df['M']+df['EPS'])\n",
    "\n",
    "fig, ax1 = plt.subplots(figsize=(8,5))\n",
    "\n",
    "ax1.plot(df['time'], df['M'], label='M', color='blue', linewidth=2)\n",
    "ax1.plot(df['time'], df['EPS'], label='EPS', color='red', linewidth=2)\n",
    "ax1.set_xlabel('Time')\n",
    "ax1.set_ylabel('M and EPS', color='black')\n",
    "ax1.tick_params(axis='y')\n",
    "\n",
    "ax2 = ax1.twinx()\n",
    "ax2.plot(df['time'], df['EPS_over_M'], label='EPS/M', color='green', linestyle='--', linewidth=2)\n",
    "ax2.set_ylabel('EPS/M')\n",
    "ax2.tick_params(axis='y')\n",
    "\n",
    "lines1, labels1 = ax1.get_legend_handles_labels()\n",
    "lines2, labels2 = ax2.get_legend_handles_labels()\n",
    "ax1.legend(lines1 + lines2, labels1 + labels2, loc='upper left')\n",
    "\n",
    "plt.title('M, EPS, and EPS/M over Time')\n",
    "plt.grid(True)\n",
    "plt.tight_layout()\n",
    "plt.show()\n"
   ]
  },
  {
   "cell_type": "code",
   "execution_count": 20,
   "id": "4dab1e4b",
   "metadata": {},
   "outputs": [
    {
     "name": "stdout",
     "output_type": "stream",
     "text": [
      "     time         B\n",
      "0       0  0.002500\n",
      "1   25000  0.005278\n",
      "2   50000  0.006458\n",
      "3   75000  0.008819\n",
      "4  100000  0.008958\n"
     ]
    }
   ],
   "source": [
    "\n",
    "biomass_df = pd.read_csv('biomass.dat', \n",
    "                 sep=r'\\s+',   \n",
    "                 header=None, \n",
    "                 names=['time', 'B']) \n",
    "\n",
    "print(biomass_df.head())\n"
   ]
  },
  {
   "cell_type": "code",
   "execution_count": 21,
   "id": "341723d7",
   "metadata": {},
   "outputs": [
    {
     "data": {
      "text/plain": [
       "<AxesSubplot:xlabel='time'>"
      ]
     },
     "execution_count": 21,
     "metadata": {},
     "output_type": "execute_result"
    },
    {
     "data": {
      "image/png": "[encoded data removed]",
      "text/plain": [
       "<Figure size 640x480 with 1 Axes>"
      ]
     },
     "metadata": {},
     "output_type": "display_data"
    }
   ],
   "source": [
    "biomass_df.plot(x='time', y='B')"
   ]
  },
  {
   "cell_type": "code",
   "execution_count": null,
   "id": "fb6ce7b1",
   "metadata": {},
   "outputs": [],
   "source": []
  },
  {
   "cell_type": "code",
   "execution_count": null,
   "id": "22d28ec1",
   "metadata": {},
   "outputs": [],
   "source": []
  },
  {
   "cell_type": "code",
   "execution_count": null,
   "id": "bea6fc12",
   "metadata": {},
   "outputs": [],
   "source": []
  },
  {
   "cell_type": "code",
   "execution_count": null,
   "id": "433baa29",
   "metadata": {},
   "outputs": [],
   "source": []
  }
 ],
 "metadata": {
  "kernelspec": {
   "display_name": "Python 3 (ipykernel)",
   "language": "python",
   "name": "python3"
  },
  "language_info": {
   "codemirror_mode": {
    "name": "ipython",
    "version": 3
   },
   "file_extension": ".py",
   "mimetype": "text/x-python",
   "name": "python",
   "nbconvert_exporter": "python",
   "pygments_lexer": "ipython3",
   "version": "3.7.3"
  }
 },
 "nbformat": 4,
 "nbformat_minor": 5
}
