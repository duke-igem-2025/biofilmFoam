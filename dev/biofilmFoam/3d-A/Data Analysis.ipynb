{
 "cells": [
  {
   "cell_type": "code",
   "execution_count": 1,
   "id": "b8a665ee",
   "metadata": {},
   "outputs": [],
   "source": [
    "import pandas as pd\n",
    "import matplotlib.pyplot as plt"
   ]
  },
  {
   "cell_type": "markdown",
   "id": "9290b73e",
   "metadata": {},
   "source": [
    "## Sessile Biomass"
   ]
  },
  {
   "cell_type": "code",
   "execution_count": 2,
   "id": "756d205a",
   "metadata": {},
   "outputs": [
    {
     "name": "stdout",
     "output_type": "stream",
     "text": [
      "     time         M\n",
      "0       0  0.000750\n",
      "1   25000  0.001003\n",
      "2   50000  0.001289\n",
      "3   75000  0.001605\n",
      "4  100000  0.001939\n"
     ]
    }
   ],
   "source": [
    "\n",
    "m_df = pd.read_csv('Mtot_fraction.dat', \n",
    "                 sep=r'\\s+',   \n",
    "                 header=None, \n",
    "                 names=['time', 'M']) \n",
    "\n",
    "print(m_df.head())\n"
   ]
  },
  {
   "cell_type": "markdown",
   "id": "dfacdb5f",
   "metadata": {},
   "source": [
    "## EPS"
   ]
  },
  {
   "cell_type": "code",
   "execution_count": 3,
   "id": "50111d54",
   "metadata": {},
   "outputs": [
    {
     "name": "stdout",
     "output_type": "stream",
     "text": [
      "     time       EPS\n",
      "0       0  0.000000\n",
      "1   25000  0.000015\n",
      "2   50000  0.000032\n",
      "3   75000  0.000051\n",
      "4  100000  0.000068\n"
     ]
    }
   ],
   "source": [
    "\n",
    "eps_df = pd.read_csv('EPS_fraction.dat', \n",
    "                 sep=r'\\s+',   \n",
    "                 header=None, \n",
    "                 names=['time', 'EPS']) \n",
    "\n",
    "print(eps_df.head())\n"
   ]
  },
  {
   "cell_type": "markdown",
   "id": "bb9edffc",
   "metadata": {},
   "source": [
    "## Merge"
   ]
  },
  {
   "cell_type": "code",
   "execution_count": 4,
   "id": "39a618d4",
   "metadata": {},
   "outputs": [
    {
     "data": {
      "text/html": [
       "<div>\n",
       "<style scoped>\n",
       "    .dataframe tbody tr th:only-of-type {\n",
       "        vertical-align: middle;\n",
       "    }\n",
       "\n",
       "    .dataframe tbody tr th {\n",
       "        vertical-align: top;\n",
       "    }\n",
       "\n",
       "    .dataframe thead th {\n",
       "        text-align: right;\n",
       "    }\n",
       "</style>\n",
       "<table border=\"1\" class=\"dataframe\">\n",
       "  <thead>\n",
       "    <tr style=\"text-align: right;\">\n",
       "      <th></th>\n",
       "      <th>time</th>\n",
       "      <th>M</th>\n",
       "      <th>EPS</th>\n",
       "    </tr>\n",
       "  </thead>\n",
       "  <tbody>\n",
       "    <tr>\n",
       "      <th>0</th>\n",
       "      <td>0</td>\n",
       "      <td>0.000750</td>\n",
       "      <td>0.000000</td>\n",
       "    </tr>\n",
       "    <tr>\n",
       "      <th>1</th>\n",
       "      <td>25000</td>\n",
       "      <td>0.001003</td>\n",
       "      <td>0.000015</td>\n",
       "    </tr>\n",
       "    <tr>\n",
       "      <th>2</th>\n",
       "      <td>50000</td>\n",
       "      <td>0.001289</td>\n",
       "      <td>0.000032</td>\n",
       "    </tr>\n",
       "    <tr>\n",
       "      <th>3</th>\n",
       "      <td>75000</td>\n",
       "      <td>0.001605</td>\n",
       "      <td>0.000051</td>\n",
       "    </tr>\n",
       "    <tr>\n",
       "      <th>4</th>\n",
       "      <td>100000</td>\n",
       "      <td>0.001939</td>\n",
       "      <td>0.000068</td>\n",
       "    </tr>\n",
       "    <tr>\n",
       "      <th>5</th>\n",
       "      <td>125000</td>\n",
       "      <td>0.002278</td>\n",
       "      <td>0.000093</td>\n",
       "    </tr>\n",
       "    <tr>\n",
       "      <th>6</th>\n",
       "      <td>150000</td>\n",
       "      <td>0.002629</td>\n",
       "      <td>0.000131</td>\n",
       "    </tr>\n",
       "    <tr>\n",
       "      <th>7</th>\n",
       "      <td>175000</td>\n",
       "      <td>0.002982</td>\n",
       "      <td>0.000168</td>\n",
       "    </tr>\n",
       "    <tr>\n",
       "      <th>8</th>\n",
       "      <td>200000</td>\n",
       "      <td>0.003322</td>\n",
       "      <td>0.000198</td>\n",
       "    </tr>\n",
       "    <tr>\n",
       "      <th>9</th>\n",
       "      <td>225000</td>\n",
       "      <td>0.003647</td>\n",
       "      <td>0.000233</td>\n",
       "    </tr>\n",
       "    <tr>\n",
       "      <th>10</th>\n",
       "      <td>250000</td>\n",
       "      <td>0.003964</td>\n",
       "      <td>0.000268</td>\n",
       "    </tr>\n",
       "    <tr>\n",
       "      <th>11</th>\n",
       "      <td>275000</td>\n",
       "      <td>0.004270</td>\n",
       "      <td>0.000299</td>\n",
       "    </tr>\n",
       "    <tr>\n",
       "      <th>12</th>\n",
       "      <td>300000</td>\n",
       "      <td>0.004554</td>\n",
       "      <td>0.000326</td>\n",
       "    </tr>\n",
       "    <tr>\n",
       "      <th>13</th>\n",
       "      <td>325000</td>\n",
       "      <td>0.004816</td>\n",
       "      <td>0.000351</td>\n",
       "    </tr>\n",
       "    <tr>\n",
       "      <th>14</th>\n",
       "      <td>350000</td>\n",
       "      <td>0.005054</td>\n",
       "      <td>0.000373</td>\n",
       "    </tr>\n",
       "    <tr>\n",
       "      <th>15</th>\n",
       "      <td>375000</td>\n",
       "      <td>0.005267</td>\n",
       "      <td>0.000392</td>\n",
       "    </tr>\n",
       "    <tr>\n",
       "      <th>16</th>\n",
       "      <td>400000</td>\n",
       "      <td>0.005448</td>\n",
       "      <td>0.000403</td>\n",
       "    </tr>\n",
       "    <tr>\n",
       "      <th>17</th>\n",
       "      <td>425000</td>\n",
       "      <td>0.005595</td>\n",
       "      <td>0.000409</td>\n",
       "    </tr>\n",
       "    <tr>\n",
       "      <th>18</th>\n",
       "      <td>450000</td>\n",
       "      <td>0.005708</td>\n",
       "      <td>0.000410</td>\n",
       "    </tr>\n",
       "    <tr>\n",
       "      <th>19</th>\n",
       "      <td>475000</td>\n",
       "      <td>0.005786</td>\n",
       "      <td>0.000408</td>\n",
       "    </tr>\n",
       "    <tr>\n",
       "      <th>20</th>\n",
       "      <td>500000</td>\n",
       "      <td>0.005829</td>\n",
       "      <td>0.000400</td>\n",
       "    </tr>\n",
       "    <tr>\n",
       "      <th>21</th>\n",
       "      <td>525000</td>\n",
       "      <td>0.005838</td>\n",
       "      <td>0.000390</td>\n",
       "    </tr>\n",
       "    <tr>\n",
       "      <th>22</th>\n",
       "      <td>550000</td>\n",
       "      <td>0.005817</td>\n",
       "      <td>0.000377</td>\n",
       "    </tr>\n",
       "    <tr>\n",
       "      <th>23</th>\n",
       "      <td>575000</td>\n",
       "      <td>0.005774</td>\n",
       "      <td>0.000366</td>\n",
       "    </tr>\n",
       "    <tr>\n",
       "      <th>24</th>\n",
       "      <td>600000</td>\n",
       "      <td>0.005718</td>\n",
       "      <td>0.000356</td>\n",
       "    </tr>\n",
       "    <tr>\n",
       "      <th>25</th>\n",
       "      <td>625000</td>\n",
       "      <td>0.005655</td>\n",
       "      <td>0.000348</td>\n",
       "    </tr>\n",
       "    <tr>\n",
       "      <th>26</th>\n",
       "      <td>650000</td>\n",
       "      <td>0.005589</td>\n",
       "      <td>0.000340</td>\n",
       "    </tr>\n",
       "    <tr>\n",
       "      <th>27</th>\n",
       "      <td>675000</td>\n",
       "      <td>0.005522</td>\n",
       "      <td>0.000333</td>\n",
       "    </tr>\n",
       "    <tr>\n",
       "      <th>28</th>\n",
       "      <td>700000</td>\n",
       "      <td>0.005455</td>\n",
       "      <td>0.000326</td>\n",
       "    </tr>\n",
       "    <tr>\n",
       "      <th>29</th>\n",
       "      <td>725000</td>\n",
       "      <td>0.005390</td>\n",
       "      <td>0.000319</td>\n",
       "    </tr>\n",
       "    <tr>\n",
       "      <th>30</th>\n",
       "      <td>750000</td>\n",
       "      <td>0.005325</td>\n",
       "      <td>0.000312</td>\n",
       "    </tr>\n",
       "    <tr>\n",
       "      <th>31</th>\n",
       "      <td>775000</td>\n",
       "      <td>0.005263</td>\n",
       "      <td>0.000306</td>\n",
       "    </tr>\n",
       "    <tr>\n",
       "      <th>32</th>\n",
       "      <td>800000</td>\n",
       "      <td>0.005201</td>\n",
       "      <td>0.000299</td>\n",
       "    </tr>\n",
       "    <tr>\n",
       "      <th>33</th>\n",
       "      <td>825000</td>\n",
       "      <td>0.005141</td>\n",
       "      <td>0.000292</td>\n",
       "    </tr>\n",
       "    <tr>\n",
       "      <th>34</th>\n",
       "      <td>850000</td>\n",
       "      <td>0.005081</td>\n",
       "      <td>0.000286</td>\n",
       "    </tr>\n",
       "  </tbody>\n",
       "</table>\n",
       "</div>"
      ],
      "text/plain": [
       "      time         M       EPS\n",
       "0        0  0.000750  0.000000\n",
       "1    25000  0.001003  0.000015\n",
       "2    50000  0.001289  0.000032\n",
       "3    75000  0.001605  0.000051\n",
       "4   100000  0.001939  0.000068\n",
       "5   125000  0.002278  0.000093\n",
       "6   150000  0.002629  0.000131\n",
       "7   175000  0.002982  0.000168\n",
       "8   200000  0.003322  0.000198\n",
       "9   225000  0.003647  0.000233\n",
       "10  250000  0.003964  0.000268\n",
       "11  275000  0.004270  0.000299\n",
       "12  300000  0.004554  0.000326\n",
       "13  325000  0.004816  0.000351\n",
       "14  350000  0.005054  0.000373\n",
       "15  375000  0.005267  0.000392\n",
       "16  400000  0.005448  0.000403\n",
       "17  425000  0.005595  0.000409\n",
       "18  450000  0.005708  0.000410\n",
       "19  475000  0.005786  0.000408\n",
       "20  500000  0.005829  0.000400\n",
       "21  525000  0.005838  0.000390\n",
       "22  550000  0.005817  0.000377\n",
       "23  575000  0.005774  0.000366\n",
       "24  600000  0.005718  0.000356\n",
       "25  625000  0.005655  0.000348\n",
       "26  650000  0.005589  0.000340\n",
       "27  675000  0.005522  0.000333\n",
       "28  700000  0.005455  0.000326\n",
       "29  725000  0.005390  0.000319\n",
       "30  750000  0.005325  0.000312\n",
       "31  775000  0.005263  0.000306\n",
       "32  800000  0.005201  0.000299\n",
       "33  825000  0.005141  0.000292\n",
       "34  850000  0.005081  0.000286"
      ]
     },
     "execution_count": 4,
     "metadata": {},
     "output_type": "execute_result"
    }
   ],
   "source": [
    "df = m_df.merge(eps_df, on='time')\n",
    "df"
   ]
  },
  {
   "cell_type": "code",
   "execution_count": 5,
   "id": "b7b72a3e",
   "metadata": {},
   "outputs": [
    {
     "data": {
      "image/png": "[encoded data removed]",
      "text/plain": [
       "<Figure size 800x500 with 2 Axes>"
      ]
     },
     "metadata": {},
     "output_type": "display_data"
    }
   ],
   "source": [
    "df['EPS_over_M'] = df['EPS'] / (df['M']+df['EPS'])\n",
    "\n",
    "fig, ax1 = plt.subplots(figsize=(8,5))\n",
    "\n",
    "ax1.plot(df['time'], df['M'], label='M', color='blue', linewidth=2)\n",
    "ax1.plot(df['time'], df['EPS'], label='EPS', color='red', linewidth=2)\n",
    "ax1.set_xlabel('Time')\n",
    "ax1.set_ylabel('M and EPS', color='black')\n",
    "ax1.tick_params(axis='y')\n",
    "\n",
    "ax2 = ax1.twinx()\n",
    "ax2.plot(df['time'], df['EPS_over_M'], label='EPS/M', color='green', linestyle='--', linewidth=2)\n",
    "ax2.set_ylabel('EPS/M')\n",
    "ax2.tick_params(axis='y')\n",
    "\n",
    "lines1, labels1 = ax1.get_legend_handles_labels()\n",
    "lines2, labels2 = ax2.get_legend_handles_labels()\n",
    "ax1.legend(lines1 + lines2, labels1 + labels2, loc='upper left')\n",
    "\n",
    "plt.title('M, EPS, and EPS/M over Time')\n",
    "plt.grid(True)\n",
    "plt.tight_layout()\n",
    "plt.show()\n"
   ]
  },
  {
   "cell_type": "code",
   "execution_count": 6,
   "id": "4dab1e4b",
   "metadata": {},
   "outputs": [
    {
     "name": "stdout",
     "output_type": "stream",
     "text": [
      "     time         B\n",
      "0       0  0.002500\n",
      "1   25000  0.005278\n",
      "2   50000  0.005278\n",
      "3   75000  0.005278\n",
      "4  100000  0.007569\n"
     ]
    }
   ],
   "source": [
    "\n",
    "biomass_df = pd.read_csv('biomass.dat', \n",
    "                 sep=r'\\s+',   \n",
    "                 header=None, \n",
    "                 names=['time', 'B']) \n",
    "\n",
    "print(biomass_df.head())\n"
   ]
  },
  {
   "cell_type": "code",
   "execution_count": 7,
   "id": "341723d7",
   "metadata": {},
   "outputs": [
    {
     "data": {
      "text/plain": [
       "<AxesSubplot:xlabel='time'>"
      ]
     },
     "execution_count": 7,
     "metadata": {},
     "output_type": "execute_result"
    },
    {
     "data": {
      "image/png": "[encoded data removed]",
      "text/plain": [
       "<Figure size 640x480 with 1 Axes>"
      ]
     },
     "metadata": {},
     "output_type": "display_data"
    }
   ],
   "source": [
    "biomass_df.plot(x='time', y='B')"
   ]
  },
  {
   "cell_type": "code",
   "execution_count": null,
   "id": "fb6ce7b1",
   "metadata": {},
   "outputs": [],
   "source": []
  },
  {
   "cell_type": "code",
   "execution_count": null,
   "id": "22d28ec1",
   "metadata": {},
   "outputs": [],
   "source": []
  },
  {
   "cell_type": "code",
   "execution_count": null,
   "id": "bea6fc12",
   "metadata": {},
   "outputs": [],
   "source": []
  }
 ],
 "metadata": {
  "kernelspec": {
   "display_name": "Python 3 (ipykernel)",
   "language": "python",
   "name": "python3"
  },
  "language_info": {
   "codemirror_mode": {
    "name": "ipython",
    "version": 3
   },
   "file_extension": ".py",
   "mimetype": "text/x-python",
   "name": "python",
   "nbconvert_exporter": "python",
   "pygments_lexer": "ipython3",
   "version": "3.7.3"
  }
 },
 "nbformat": 4,
 "nbformat_minor": 5
}
