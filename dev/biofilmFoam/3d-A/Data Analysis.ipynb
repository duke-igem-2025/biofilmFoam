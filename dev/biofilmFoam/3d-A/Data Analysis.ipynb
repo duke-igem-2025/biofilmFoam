{
 "cells": [
  {
   "cell_type": "code",
   "execution_count": 1,
   "id": "b8a665ee",
   "metadata": {},
   "outputs": [],
   "source": [
    "import pandas as pd\n",
    "import matplotlib.pyplot as plt"
   ]
  },
  {
   "cell_type": "markdown",
   "id": "9290b73e",
   "metadata": {},
   "source": [
    "## Sessile Biomass"
   ]
  },
  {
   "cell_type": "code",
   "execution_count": 2,
   "id": "756d205a",
   "metadata": {},
   "outputs": [
    {
     "name": "stdout",
     "output_type": "stream",
     "text": [
      "    time         M\n",
      "0      0  0.000750\n",
      "1  10000  0.000970\n",
      "2  20000  0.001241\n",
      "3  30000  0.001572\n",
      "4  40000  0.001966\n"
     ]
    }
   ],
   "source": [
    "\n",
    "m_df = pd.read_csv('Mtot_fraction_0.dat', \n",
    "                 sep=r'\\s+',   \n",
    "                 header=None, \n",
    "                 names=['time', 'M']) \n",
    "\n",
    "print(m_df.head())\n"
   ]
  },
  {
   "cell_type": "markdown",
   "id": "dfacdb5f",
   "metadata": {},
   "source": [
    "## EPS"
   ]
  },
  {
   "cell_type": "code",
   "execution_count": 3,
   "id": "50111d54",
   "metadata": {},
   "outputs": [
    {
     "name": "stdout",
     "output_type": "stream",
     "text": [
      "    time       EPS\n",
      "0      0  0.000500\n",
      "1  10000  0.000534\n",
      "2  20000  0.000578\n",
      "3  30000  0.000634\n",
      "4  40000  0.000702\n"
     ]
    }
   ],
   "source": [
    "\n",
    "eps_df = pd.read_csv('EPS_fraction_0.dat', \n",
    "                 sep=r'\\s+',   \n",
    "                 header=None, \n",
    "                 names=['time', 'EPS']) \n",
    "\n",
    "print(eps_df.head())\n"
   ]
  },
  {
   "cell_type": "markdown",
   "id": "bb9edffc",
   "metadata": {},
   "source": [
    "## Merge"
   ]
  },
  {
   "cell_type": "code",
   "execution_count": 4,
   "id": "39a618d4",
   "metadata": {},
   "outputs": [
    {
     "data": {
      "text/html": [
       "<div>\n",
       "<style scoped>\n",
       "    .dataframe tbody tr th:only-of-type {\n",
       "        vertical-align: middle;\n",
       "    }\n",
       "\n",
       "    .dataframe tbody tr th {\n",
       "        vertical-align: top;\n",
       "    }\n",
       "\n",
       "    .dataframe thead th {\n",
       "        text-align: right;\n",
       "    }\n",
       "</style>\n",
       "<table border=\"1\" class=\"dataframe\">\n",
       "  <thead>\n",
       "    <tr style=\"text-align: right;\">\n",
       "      <th></th>\n",
       "      <th>time</th>\n",
       "      <th>M</th>\n",
       "      <th>EPS</th>\n",
       "    </tr>\n",
       "  </thead>\n",
       "  <tbody>\n",
       "    <tr>\n",
       "      <th>0</th>\n",
       "      <td>0</td>\n",
       "      <td>0.000750</td>\n",
       "      <td>0.000500</td>\n",
       "    </tr>\n",
       "    <tr>\n",
       "      <th>1</th>\n",
       "      <td>10000</td>\n",
       "      <td>0.000970</td>\n",
       "      <td>0.000534</td>\n",
       "    </tr>\n",
       "    <tr>\n",
       "      <th>2</th>\n",
       "      <td>20000</td>\n",
       "      <td>0.001241</td>\n",
       "      <td>0.000578</td>\n",
       "    </tr>\n",
       "    <tr>\n",
       "      <th>3</th>\n",
       "      <td>30000</td>\n",
       "      <td>0.001572</td>\n",
       "      <td>0.000634</td>\n",
       "    </tr>\n",
       "    <tr>\n",
       "      <th>4</th>\n",
       "      <td>40000</td>\n",
       "      <td>0.001966</td>\n",
       "      <td>0.000702</td>\n",
       "    </tr>\n",
       "    <tr>\n",
       "      <th>...</th>\n",
       "      <td>...</td>\n",
       "      <td>...</td>\n",
       "      <td>...</td>\n",
       "    </tr>\n",
       "    <tr>\n",
       "      <th>82</th>\n",
       "      <td>820000</td>\n",
       "      <td>0.006972</td>\n",
       "      <td>0.005533</td>\n",
       "    </tr>\n",
       "    <tr>\n",
       "      <th>83</th>\n",
       "      <td>830000</td>\n",
       "      <td>0.007013</td>\n",
       "      <td>0.005569</td>\n",
       "    </tr>\n",
       "    <tr>\n",
       "      <th>84</th>\n",
       "      <td>840000</td>\n",
       "      <td>0.007054</td>\n",
       "      <td>0.005605</td>\n",
       "    </tr>\n",
       "    <tr>\n",
       "      <th>85</th>\n",
       "      <td>850000</td>\n",
       "      <td>0.007091</td>\n",
       "      <td>0.005641</td>\n",
       "    </tr>\n",
       "    <tr>\n",
       "      <th>86</th>\n",
       "      <td>860000</td>\n",
       "      <td>0.007123</td>\n",
       "      <td>0.005676</td>\n",
       "    </tr>\n",
       "  </tbody>\n",
       "</table>\n",
       "<p>87 rows × 3 columns</p>\n",
       "</div>"
      ],
      "text/plain": [
       "      time         M       EPS\n",
       "0        0  0.000750  0.000500\n",
       "1    10000  0.000970  0.000534\n",
       "2    20000  0.001241  0.000578\n",
       "3    30000  0.001572  0.000634\n",
       "4    40000  0.001966  0.000702\n",
       "..     ...       ...       ...\n",
       "82  820000  0.006972  0.005533\n",
       "83  830000  0.007013  0.005569\n",
       "84  840000  0.007054  0.005605\n",
       "85  850000  0.007091  0.005641\n",
       "86  860000  0.007123  0.005676\n",
       "\n",
       "[87 rows x 3 columns]"
      ]
     },
     "execution_count": 4,
     "metadata": {},
     "output_type": "execute_result"
    }
   ],
   "source": [
    "df = m_df.merge(eps_df, on='time')\n",
    "df"
   ]
  },
  {
   "cell_type": "code",
   "execution_count": 5,
   "id": "b7b72a3e",
   "metadata": {},
   "outputs": [
    {
     "ename": "NameError",
     "evalue": "name 'ax2' is not defined",
     "output_type": "error",
     "traceback": [
      "\u001b[0;31m---------------------------------------------------------------------------\u001b[0m",
      "\u001b[0;31mNameError\u001b[0m                                 Traceback (most recent call last)",
      "\u001b[0;32m/tmp/ipykernel_2990652/1878969559.py\u001b[0m in \u001b[0;36m<module>\u001b[0;34m\u001b[0m\n\u001b[1;32m     15\u001b[0m \u001b[0;34m\u001b[0m\u001b[0m\n\u001b[1;32m     16\u001b[0m \u001b[0mlines1\u001b[0m\u001b[0;34m,\u001b[0m \u001b[0mlabels1\u001b[0m \u001b[0;34m=\u001b[0m \u001b[0max1\u001b[0m\u001b[0;34m.\u001b[0m\u001b[0mget_legend_handles_labels\u001b[0m\u001b[0;34m(\u001b[0m\u001b[0;34m)\u001b[0m\u001b[0;34m\u001b[0m\u001b[0;34m\u001b[0m\u001b[0m\n\u001b[0;32m---> 17\u001b[0;31m \u001b[0mlines2\u001b[0m\u001b[0;34m,\u001b[0m \u001b[0mlabels2\u001b[0m \u001b[0;34m=\u001b[0m \u001b[0max2\u001b[0m\u001b[0;34m.\u001b[0m\u001b[0mget_legend_handles_labels\u001b[0m\u001b[0;34m(\u001b[0m\u001b[0;34m)\u001b[0m\u001b[0;34m\u001b[0m\u001b[0;34m\u001b[0m\u001b[0m\n\u001b[0m\u001b[1;32m     18\u001b[0m \u001b[0max1\u001b[0m\u001b[0;34m.\u001b[0m\u001b[0mlegend\u001b[0m\u001b[0;34m(\u001b[0m\u001b[0mlines1\u001b[0m \u001b[0;34m+\u001b[0m \u001b[0mlines2\u001b[0m\u001b[0;34m,\u001b[0m \u001b[0mlabels1\u001b[0m \u001b[0;34m+\u001b[0m \u001b[0mlabels2\u001b[0m\u001b[0;34m,\u001b[0m \u001b[0mloc\u001b[0m\u001b[0;34m=\u001b[0m\u001b[0;34m'upper left'\u001b[0m\u001b[0;34m)\u001b[0m\u001b[0;34m\u001b[0m\u001b[0;34m\u001b[0m\u001b[0m\n\u001b[1;32m     19\u001b[0m \u001b[0;34m\u001b[0m\u001b[0m\n",
      "\u001b[0;31mNameError\u001b[0m: name 'ax2' is not defined"
     ]
    },
    {
     "data": {
      "image/png": "[encoded data removed]",
      "text/plain": [
       "<Figure size 800x500 with 1 Axes>"
      ]
     },
     "metadata": {},
     "output_type": "display_data"
    }
   ],
   "source": [
    "df['EPS_over_M'] = df['EPS']*7 / (df['M']*3+df['EPS']*7)\n",
    "\n",
    "fig, ax1 = plt.subplots(figsize=(8,5))\n",
    "\n",
    "ax1.plot(df['time'], df['M']*3, label='M', color='blue', linewidth=2)\n",
    "ax1.plot(df['time'], df['EPS']*7, label='EPS', color='red', linewidth=2)\n",
    "ax1.set_xlabel('Time')\n",
    "ax1.set_ylabel('M and EPS', color='black')\n",
    "ax1.tick_params(axis='y')\n",
    "\n",
    "# ax2 = ax1.twinx()\n",
    "# ax2.plot(df['time'], df['EPS_over_M'], label='EPS/M', color='green', linestyle='--', linewidth=2)\n",
    "# ax2.set_ylabel('EPS/M')\n",
    "# ax2.tick_params(axis='y')\n",
    "\n",
    "lines1, labels1 = ax1.get_legend_handles_labels()\n",
    "lines2, labels2 = ax2.get_legend_handles_labels()\n",
    "ax1.legend(lines1 + lines2, labels1 + labels2, loc='upper left')\n",
    "\n",
    "plt.title('M, EPS, and EPS/M over Time')\n",
    "plt.grid(True)\n",
    "plt.tight_layout()\n",
    "plt.show()\n"
   ]
  },
  {
   "cell_type": "code",
   "execution_count": null,
   "id": "4dab1e4b",
   "metadata": {},
   "outputs": [],
   "source": [
    "\n",
    "biomass_df = pd.read_csv('biomass_0.dat', \n",
    "                 sep=r'\\s+',   \n",
    "                 header=None, \n",
    "                 names=['time', 'B']) \n",
    "\n",
    "print(biomass_df.head())\n"
   ]
  },
  {
   "cell_type": "code",
   "execution_count": null,
   "id": "341723d7",
   "metadata": {},
   "outputs": [],
   "source": [
    "biomass_df.plot(x='time', y='B')"
   ]
  },
  {
   "cell_type": "code",
   "execution_count": null,
   "id": "fb6ce7b1",
   "metadata": {},
   "outputs": [],
   "source": []
  },
  {
   "cell_type": "code",
   "execution_count": null,
   "id": "22d28ec1",
   "metadata": {},
   "outputs": [],
   "source": []
  },
  {
   "cell_type": "code",
   "execution_count": null,
   "id": "bea6fc12",
   "metadata": {},
   "outputs": [],
   "source": []
  },
  {
   "cell_type": "code",
   "execution_count": null,
   "id": "433baa29",
   "metadata": {},
   "outputs": [],
   "source": []
  }
 ],
 "metadata": {
  "kernelspec": {
   "display_name": "Python 3 (ipykernel)",
   "language": "python",
   "name": "python3"
  },
  "language_info": {
   "codemirror_mode": {
    "name": "ipython",
    "version": 3
   },
   "file_extension": ".py",
   "mimetype": "text/x-python",
   "name": "python",
   "nbconvert_exporter": "python",
   "pygments_lexer": "ipython3",
   "version": "3.7.3"
  }
 },
 "nbformat": 4,
 "nbformat_minor": 5
}
